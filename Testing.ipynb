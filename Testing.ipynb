{
 "cells": [
  {
   "cell_type": "code",
   "execution_count": 1,
   "metadata": {},
   "outputs": [],
   "source": [
    "from Strategy1 import *\n",
    "\n",
    "# #Here we can say our parameters.\n",
    "# start_date = '2021-01-01'\n",
    "# end_date = '2024-12-01'\n",
    "# ticker = 'SNOW'\n",
    "# threshold = 3\n",
    "\n",
    "# output_file = f\"VolumeBreakouts_{ticker}_{threshold}.xlsx\"\n",
    "\n",
    "#Run the volume breakout strategy and generate the Excel file.\n",
    "# dates, returns = VolumeBreakoutDetect(start_date, end_date, ticker, threshold).generate_excel(output_file=output_file)\n"
   ]
  },
  {
   "cell_type": "code",
   "execution_count": 17,
   "metadata": {},
   "outputs": [
    {
     "name": "stderr",
     "output_type": "stream",
     "text": [
      "[*********************100%***********************]  1 of 1 completed\n"
     ]
    },
    {
     "name": "stdout",
     "output_type": "stream",
     "text": [
      "Spreadsheet 'VolumeBreakouts_ZUO_3' successfully updated.\n",
      "Report successfully written to Google Sheets: VolumeBreakouts_ZUO_3\n"
     ]
    }
   ],
   "source": [
    "volume_breakout = VolumeBreakoutDetect(\n",
    "    start_date='2021-01-01',\n",
    "    end_date='2024-12-01',\n",
    "    ticker='ZUO',\n",
    "    threshold=3\n",
    ")\n",
    "\n",
    "#Call the function and provide the name of the Google Spreadsheet.\n",
    "spreadsheet_name = \"VolumeBreakouts_ZUO_3\"\n",
    "volume_breakout.generate_google_sheet(spreadsheet_name=spreadsheet_name)\n",
    "\n",
    "print(f\"Report successfully written to Google Sheets: {spreadsheet_name}\")\n"
   ]
  }
 ],
 "metadata": {
  "kernelspec": {
   "display_name": "Python 3",
   "language": "python",
   "name": "python3"
  },
  "language_info": {
   "codemirror_mode": {
    "name": "ipython",
    "version": 3
   },
   "file_extension": ".py",
   "mimetype": "text/x-python",
   "name": "python",
   "nbconvert_exporter": "python",
   "pygments_lexer": "ipython3",
   "version": "3.11.9"
  }
 },
 "nbformat": 4,
 "nbformat_minor": 2
}
